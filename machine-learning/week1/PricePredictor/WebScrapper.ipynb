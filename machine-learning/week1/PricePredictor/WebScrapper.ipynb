{
  "nbformat": 4,
  "nbformat_minor": 0,
  "metadata": {
    "colab": {
      "provenance": [],
      "authorship_tag": "ABX9TyMaiTbEYqFVuDl/nI/CDYBL",
      "include_colab_link": true
    },
    "kernelspec": {
      "name": "python3",
      "display_name": "Python 3"
    },
    "language_info": {
      "name": "python"
    }
  },
  "cells": [
    {
      "cell_type": "markdown",
      "metadata": {
        "id": "view-in-github",
        "colab_type": "text"
      },
      "source": [
        "<a href=\"https://colab.research.google.com/github/CodeGreatCommander/summer-of-code-2023/blob/main/machine-learning/week1/PricePredictor/WebScrapper.ipynb\" target=\"_parent\"><img src=\"https://colab.research.google.com/assets/colab-badge.svg\" alt=\"Open In Colab\"/></a>"
      ]
    },
    {
      "cell_type": "markdown",
      "source": [
        "#Web Scrapping"
      ],
      "metadata": {
        "id": "I_C5176Ap4jD"
      }
    },
    {
      "cell_type": "markdown",
      "source": [
        "##Getting Modules"
      ],
      "metadata": {
        "id": "bvf1af7SqGuY"
      }
    },
    {
      "cell_type": "code",
      "source": [
        "!pip install bs4 requests"
      ],
      "metadata": {
        "colab": {
          "base_uri": "https://localhost:8080/"
        },
        "id": "ifqCO9pyqJN_",
        "outputId": "0134b599-4dea-4568-a0e3-0dff0e33771e"
      },
      "execution_count": null,
      "outputs": [
        {
          "output_type": "stream",
          "name": "stdout",
          "text": [
            "Looking in indexes: https://pypi.org/simple, https://us-python.pkg.dev/colab-wheels/public/simple/\n",
            "Requirement already satisfied: bs4 in /usr/local/lib/python3.10/dist-packages (0.0.1)\n",
            "Requirement already satisfied: requests in /usr/local/lib/python3.10/dist-packages (2.27.1)\n",
            "Requirement already satisfied: beautifulsoup4 in /usr/local/lib/python3.10/dist-packages (from bs4) (4.11.2)\n",
            "Requirement already satisfied: urllib3<1.27,>=1.21.1 in /usr/local/lib/python3.10/dist-packages (from requests) (1.26.15)\n",
            "Requirement already satisfied: certifi>=2017.4.17 in /usr/local/lib/python3.10/dist-packages (from requests) (2022.12.7)\n",
            "Requirement already satisfied: charset-normalizer~=2.0.0 in /usr/local/lib/python3.10/dist-packages (from requests) (2.0.12)\n",
            "Requirement already satisfied: idna<4,>=2.5 in /usr/local/lib/python3.10/dist-packages (from requests) (3.4)\n",
            "Requirement already satisfied: soupsieve>1.2 in /usr/local/lib/python3.10/dist-packages (from beautifulsoup4->bs4) (2.4.1)\n"
          ]
        }
      ]
    },
    {
      "cell_type": "code",
      "source": [
        "import pandas as pd\n",
        "import numpy as nm\n",
        "import requests\n",
        "from bs4 import BeautifulSoup"
      ],
      "metadata": {
        "id": "HGzr439lqQQl"
      },
      "execution_count": null,
      "outputs": []
    },
    {
      "cell_type": "markdown",
      "source": [
        "##Data Scraper"
      ],
      "metadata": {
        "id": "DwFUhI_np7tT"
      }
    },
    {
      "cell_type": "code",
      "source": [
        "headers=({'User-Agent':'Mozilla/5.0 (Windows NT 10.0; Win64; x64) AppleWebKit/537.36 (KHTML, like Gecko) Chrome/114.0.0.0 Safari/537.36'})"
      ],
      "metadata": {
        "id": "znbdXqwzrFxT"
      },
      "execution_count": null,
      "outputs": []
    },
    {
      "cell_type": "code",
      "source": [
        "def get_soup(URL):\n",
        "  webpage='<Response [503]>'\n",
        "  for i in range(100):\n",
        "      webpage=requests.get(URL,headers)\n",
        "      if(str(webpage)=='<Response [200]>'):\n",
        "        break\n",
        "  if(str(webpage)=='<Response [200]>'):\n",
        "    soup=BeautifulSoup(webpage.content,'html.parser')\n",
        "    soup=BeautifulSoup(soup.prettify(),\"html.parser\")\n",
        "    return soup\n",
        "  else:\n",
        "    raise Exception(\"Did not achieve response 200 \"+ str(webpage))"
      ],
      "metadata": {
        "id": "OryBiSe2qCzO"
      },
      "execution_count": null,
      "outputs": []
    },
    {
      "cell_type": "markdown",
      "source": [
        "###Achiving list of individual URL"
      ],
      "metadata": {
        "id": "ua1U-xRescHR"
      }
    },
    {
      "cell_type": "code",
      "source": [
        "def get_lists(URL):\n",
        "  soup=get_soup(URL)\n",
        "  lists=soup.find_all(class_=\"_1fQZEK\")\n",
        "  lists=list(map(lambda x:'https://www.flipkart.com'+x.get('href').strip(),lists))\n",
        "  return lists"
      ],
      "metadata": {
        "id": "2DdlhLfish4e"
      },
      "execution_count": null,
      "outputs": []
    },
    {
      "cell_type": "markdown",
      "source": [
        "##Individual Item data"
      ],
      "metadata": {
        "id": "QSSdIowSvnzH"
      }
    },
    {
      "cell_type": "code",
      "source": [
        "def get_data(URL):\n",
        "  soup=get_soup(URL)\n",
        "  dataman=lambda x:x.text.strip()\n",
        "  name=dataman(soup.find(class_='B_NuCI'))\n",
        "  rating=float(dataman(soup.find(class_='_3LWZlK'))[1:].replace(',',''))\n",
        "  cost=float(dataman(soup.find(class_='_30jeq3 _16Jk6d'))[1:].replace(',',''))\n",
        "  ram=list(map(lambda x:dataman(x),soup.find_all(class_='_21Ahn-')))\n",
        "  return [name]+[rating]+ram+[cost]"
      ],
      "metadata": {
        "id": "y_P8As2Qvtlg"
      },
      "execution_count": null,
      "outputs": []
    },
    {
      "cell_type": "code",
      "source": [
        "dataset=[]\n",
        "c=0\n",
        "URL=\"https://www.flipkart.com/search?q=mobiles&as=on&as-show=on&otracker=AS_Query_TrendingAutoSuggest_1_0_na_na_na&otracker1=AS_Query_TrendingAutoSuggest_1_0_na_na_na&as-pos=1&as-type=TRENDING&suggestionId=mobiles&requestId=41d12941-1d49-4d4f-9db0-985c72ebf1f9&as-backfill=on&page=\"\n",
        "for i in range(1,10):\n",
        "  lists=get_lists(URL+str(i))\n",
        "  if(lists is not None):\n",
        "    for x in lists:\n",
        "      try:\n",
        "        dataset.append(get_data(x))\n",
        "        c+=1\n",
        "        print(c)\n",
        "      except:\n",
        "        continue"
      ],
      "metadata": {
        "colab": {
          "base_uri": "https://localhost:8080/"
        },
        "id": "5nQZPaavwibe",
        "outputId": "57009dfc-0a1c-4b5f-8bdd-d98ec30e70fb"
      },
      "execution_count": null,
      "outputs": [
        {
          "output_type": "stream",
          "name": "stdout",
          "text": [
            "1\n",
            "2\n",
            "3\n",
            "4\n",
            "5\n",
            "6\n",
            "7\n",
            "8\n",
            "9\n",
            "10\n",
            "11\n",
            "12\n",
            "13\n",
            "14\n",
            "15\n",
            "16\n",
            "17\n",
            "18\n",
            "19\n",
            "20\n",
            "21\n",
            "22\n",
            "23\n",
            "24\n",
            "25\n",
            "26\n",
            "27\n",
            "28\n",
            "29\n",
            "30\n",
            "31\n",
            "32\n",
            "33\n",
            "34\n",
            "35\n",
            "36\n",
            "37\n",
            "38\n",
            "39\n",
            "40\n",
            "41\n",
            "42\n",
            "43\n",
            "44\n",
            "45\n",
            "46\n",
            "47\n",
            "48\n",
            "49\n",
            "50\n",
            "51\n",
            "52\n",
            "53\n",
            "54\n",
            "55\n",
            "56\n",
            "57\n",
            "58\n",
            "59\n",
            "60\n",
            "61\n",
            "62\n",
            "63\n",
            "64\n",
            "65\n",
            "66\n",
            "67\n",
            "68\n",
            "69\n",
            "70\n",
            "71\n",
            "72\n",
            "73\n",
            "74\n",
            "75\n",
            "76\n",
            "77\n",
            "78\n",
            "79\n",
            "80\n",
            "81\n",
            "82\n",
            "83\n",
            "84\n",
            "85\n",
            "86\n",
            "87\n",
            "88\n",
            "89\n",
            "90\n",
            "91\n",
            "92\n",
            "93\n",
            "94\n",
            "95\n",
            "96\n",
            "97\n",
            "98\n",
            "99\n",
            "100\n",
            "101\n",
            "102\n",
            "103\n",
            "104\n",
            "105\n",
            "106\n",
            "107\n",
            "108\n",
            "109\n",
            "110\n",
            "111\n",
            "112\n",
            "113\n",
            "114\n",
            "115\n",
            "116\n",
            "117\n",
            "118\n",
            "119\n",
            "120\n",
            "121\n",
            "122\n",
            "123\n",
            "124\n",
            "125\n",
            "126\n",
            "127\n",
            "128\n",
            "129\n",
            "130\n",
            "131\n",
            "132\n",
            "133\n",
            "134\n",
            "135\n",
            "136\n",
            "137\n",
            "138\n",
            "139\n",
            "140\n",
            "141\n",
            "142\n",
            "143\n",
            "144\n",
            "145\n",
            "146\n",
            "147\n",
            "148\n",
            "149\n",
            "150\n",
            "151\n",
            "152\n",
            "153\n",
            "154\n",
            "155\n",
            "156\n",
            "157\n",
            "158\n",
            "159\n",
            "160\n",
            "161\n",
            "162\n",
            "163\n",
            "164\n",
            "165\n",
            "166\n",
            "167\n",
            "168\n",
            "169\n",
            "170\n",
            "171\n",
            "172\n",
            "173\n",
            "174\n",
            "175\n",
            "176\n",
            "177\n",
            "178\n",
            "179\n",
            "180\n",
            "181\n",
            "182\n",
            "183\n",
            "184\n",
            "185\n",
            "186\n",
            "187\n",
            "188\n",
            "189\n",
            "190\n",
            "191\n",
            "192\n",
            "193\n",
            "194\n",
            "195\n",
            "196\n",
            "197\n",
            "198\n",
            "199\n",
            "200\n",
            "201\n",
            "202\n"
          ]
        }
      ]
    },
    {
      "cell_type": "code",
      "source": [
        "print(dataset)"
      ],
      "metadata": {
        "colab": {
          "base_uri": "https://localhost:8080/"
        },
        "id": "u07hNUoa0E7k",
        "outputId": "0ef18e49-3c15-4727-cb63-c6e4915b7baf"
      },
      "execution_count": null,
      "outputs": [
        {
          "output_type": "stream",
          "name": "stdout",
          "text": [
            "[]\n"
          ]
        }
      ]
    },
    {
      "cell_type": "code",
      "source": [
        "import csv\n",
        "with open(\"output.csv\",\"w\",newline=\"\") as f:\n",
        "  writer=csv.writer(f)\n",
        "  writer.writerows(dataset)"
      ],
      "metadata": {
        "id": "xVt3KB8m0SRH"
      },
      "execution_count": null,
      "outputs": []
    }
  ]
}