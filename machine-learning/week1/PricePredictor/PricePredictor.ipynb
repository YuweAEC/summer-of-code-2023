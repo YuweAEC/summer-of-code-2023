{
  "nbformat": 4,
  "nbformat_minor": 0,
  "metadata": {
    "colab": {
      "provenance": [],
      "authorship_tag": "ABX9TyN6qaV39PaJMSk9TUeOXxlk",
      "include_colab_link": true
    },
    "kernelspec": {
      "name": "python3",
      "display_name": "Python 3"
    },
    "language_info": {
      "name": "python"
    }
  },
  "cells": [
    {
      "cell_type": "markdown",
      "metadata": {
        "id": "view-in-github",
        "colab_type": "text"
      },
      "source": [
        "<a href=\"https://colab.research.google.com/github/CodeGreatCommander/summer-of-code-2023/blob/main/machine-learning/week1/PricePredictor/PricePredictor.ipynb\" target=\"_parent\"><img src=\"https://colab.research.google.com/assets/colab-badge.svg\" alt=\"Open In Colab\"/></a>"
      ]
    },
    {
      "cell_type": "markdown",
      "source": [
        "#ML"
      ],
      "metadata": {
        "id": "RPQxWo_DwlCX"
      }
    },
    {
      "cell_type": "code",
      "source": [
        "import pandas as pd\n",
        "import numpy as np\n",
        "import matplotlib.pyplot as plt"
      ],
      "metadata": {
        "id": "144gKxVtJt1Z"
      },
      "execution_count": 1,
      "outputs": []
    },
    {
      "cell_type": "code",
      "source": [
        "dataset=pd.read_csv('output (1).csv')\n",
        "dataset=dataset.iloc[:,:].values"
      ],
      "metadata": {
        "id": "8itTt62_Jtxu"
      },
      "execution_count": 12,
      "outputs": []
    },
    {
      "cell_type": "markdown",
      "source": [
        "##Datacleaning"
      ],
      "metadata": {
        "id": "kE0a_9tLKDn5"
      }
    },
    {
      "cell_type": "code",
      "source": [
        "dataset2=[]\n",
        "for i in range(len(dataset)):\n",
        "  data=[]\n",
        "  if(len(dataset[i,0])>6):\n",
        "    data.append(dataset[i][0][:6])\n",
        "  else :data.append(dataset[i][0])\n",
        "  data.append(float(dataset[i][1]))\n",
        "  ramrom=dataset[i][2]\n",
        "  # print(ramrom)\n",
        "  ram=ramrom[:ramrom.index(\" RAM\")]\n",
        "  if(ram[-2:]=='GB'):ram=int(ram[:-2].strip())\n",
        "  else:ram=0.001*int(ram[:-2].strip())\n",
        "  data.append(ram)\n",
        "  rom=ramrom[ramrom.index(\"RAM | \")+6:ramrom.index(\" ROM\")]\n",
        "  if(rom[-2:]=='GB'):rom=int(rom[:-2].strip())\n",
        "  else:rom=0.001*int(rom[:-2].strip())\n",
        "  data.append(rom)\n",
        "  data.append(dataset[i][3])\n",
        "  data.append(dataset[i][4])\n",
        "  if(len(dataset[i][5])>4):\n",
        "    data.append(int(dataset[i][5][:4]))\n",
        "  else :data.append(0)\n",
        "  data.append(dataset[i][6])\n",
        "  data.append(float(dataset[i][7]))\n",
        "  dataset2.append(data)\n",
        "  # print(i,dataset[i][0])"
      ],
      "metadata": {
        "id": "Hc61AQlMKCo7"
      },
      "execution_count": 13,
      "outputs": []
    },
    {
      "cell_type": "code",
      "source": [
        "dataset=dataset2\n",
        "# print(dataset)"
      ],
      "metadata": {
        "id": "Lp8vP4P0OVVE"
      },
      "execution_count": 14,
      "outputs": []
    },
    {
      "cell_type": "markdown",
      "source": [
        "##Preprocessing"
      ],
      "metadata": {
        "id": "ZQFAJyL7wqoF"
      }
    },
    {
      "cell_type": "code",
      "source": [
        "dataset=np.array(dataset)\n",
        "# print(dataset)\n",
        "X = dataset[:,0:-1]\n",
        "y = dataset[:, -1:]"
      ],
      "metadata": {
        "id": "nVfH8EzuwoPV"
      },
      "execution_count": 15,
      "outputs": []
    },
    {
      "cell_type": "code",
      "source": [
        "from sklearn.compose import ColumnTransformer\n",
        "from sklearn.preprocessing import OneHotEncoder\n",
        "ct = ColumnTransformer(transformers=[('encoder', OneHotEncoder(sparse=False), [0,4,5,7])], remainder='passthrough')\n",
        "X=np.array(ct.fit_transform(X))"
      ],
      "metadata": {
        "id": "wGJCO2WMyAvV",
        "colab": {
          "base_uri": "https://localhost:8080/"
        },
        "outputId": "dd9e8dae-c380-466f-f9b6-07abf95b4443"
      },
      "execution_count": 16,
      "outputs": [
        {
          "output_type": "stream",
          "name": "stderr",
          "text": [
            "/usr/local/lib/python3.10/dist-packages/sklearn/preprocessing/_encoders.py:868: FutureWarning: `sparse` was renamed to `sparse_output` in version 1.2 and will be removed in 1.4. `sparse_output` is ignored unless you leave `sparse` to its default value.\n",
            "  warnings.warn(\n"
          ]
        }
      ]
    },
    {
      "cell_type": "code",
      "source": [
        "from sklearn.model_selection import train_test_split\n",
        "X_train, X_test, y_train, y_test = train_test_split(X, y, test_size = 0.2, random_state = 1)"
      ],
      "metadata": {
        "id": "0Wn8SVMAyQc3"
      },
      "execution_count": 17,
      "outputs": []
    },
    {
      "cell_type": "code",
      "source": [
        "from sklearn.preprocessing import StandardScaler\n",
        "sc = StandardScaler()\n",
        "X_train = sc.fit_transform(X_train)\n",
        "X_test = sc.transform(X_test)"
      ],
      "metadata": {
        "id": "SobZfBn0yUR8"
      },
      "execution_count": 18,
      "outputs": []
    },
    {
      "cell_type": "markdown",
      "source": [
        "##Training"
      ],
      "metadata": {
        "id": "kF8VBeH6yyi6"
      }
    },
    {
      "cell_type": "code",
      "source": [
        "from sklearn.ensemble import RandomForestRegressor\n",
        "regressor = RandomForestRegressor(n_estimators = 15, random_state = 0)\n",
        "regressor.fit(X_train, y_train)"
      ],
      "metadata": {
        "colab": {
          "base_uri": "https://localhost:8080/",
          "height": 129
        },
        "id": "P09R2G7ly0Ts",
        "outputId": "8b957a02-04ef-4dfd-efa9-f6a98a88c91d"
      },
      "execution_count": 23,
      "outputs": [
        {
          "output_type": "stream",
          "name": "stderr",
          "text": [
            "<ipython-input-23-682a4d1d5f8e>:3: DataConversionWarning: A column-vector y was passed when a 1d array was expected. Please change the shape of y to (n_samples,), for example using ravel().\n",
            "  regressor.fit(X_train, y_train)\n"
          ]
        },
        {
          "output_type": "execute_result",
          "data": {
            "text/plain": [
              "RandomForestRegressor(n_estimators=15, random_state=0)"
            ],
            "text/html": [
              "<style>#sk-container-id-3 {color: black;background-color: white;}#sk-container-id-3 pre{padding: 0;}#sk-container-id-3 div.sk-toggleable {background-color: white;}#sk-container-id-3 label.sk-toggleable__label {cursor: pointer;display: block;width: 100%;margin-bottom: 0;padding: 0.3em;box-sizing: border-box;text-align: center;}#sk-container-id-3 label.sk-toggleable__label-arrow:before {content: \"▸\";float: left;margin-right: 0.25em;color: #696969;}#sk-container-id-3 label.sk-toggleable__label-arrow:hover:before {color: black;}#sk-container-id-3 div.sk-estimator:hover label.sk-toggleable__label-arrow:before {color: black;}#sk-container-id-3 div.sk-toggleable__content {max-height: 0;max-width: 0;overflow: hidden;text-align: left;background-color: #f0f8ff;}#sk-container-id-3 div.sk-toggleable__content pre {margin: 0.2em;color: black;border-radius: 0.25em;background-color: #f0f8ff;}#sk-container-id-3 input.sk-toggleable__control:checked~div.sk-toggleable__content {max-height: 200px;max-width: 100%;overflow: auto;}#sk-container-id-3 input.sk-toggleable__control:checked~label.sk-toggleable__label-arrow:before {content: \"▾\";}#sk-container-id-3 div.sk-estimator input.sk-toggleable__control:checked~label.sk-toggleable__label {background-color: #d4ebff;}#sk-container-id-3 div.sk-label input.sk-toggleable__control:checked~label.sk-toggleable__label {background-color: #d4ebff;}#sk-container-id-3 input.sk-hidden--visually {border: 0;clip: rect(1px 1px 1px 1px);clip: rect(1px, 1px, 1px, 1px);height: 1px;margin: -1px;overflow: hidden;padding: 0;position: absolute;width: 1px;}#sk-container-id-3 div.sk-estimator {font-family: monospace;background-color: #f0f8ff;border: 1px dotted black;border-radius: 0.25em;box-sizing: border-box;margin-bottom: 0.5em;}#sk-container-id-3 div.sk-estimator:hover {background-color: #d4ebff;}#sk-container-id-3 div.sk-parallel-item::after {content: \"\";width: 100%;border-bottom: 1px solid gray;flex-grow: 1;}#sk-container-id-3 div.sk-label:hover label.sk-toggleable__label {background-color: #d4ebff;}#sk-container-id-3 div.sk-serial::before {content: \"\";position: absolute;border-left: 1px solid gray;box-sizing: border-box;top: 0;bottom: 0;left: 50%;z-index: 0;}#sk-container-id-3 div.sk-serial {display: flex;flex-direction: column;align-items: center;background-color: white;padding-right: 0.2em;padding-left: 0.2em;position: relative;}#sk-container-id-3 div.sk-item {position: relative;z-index: 1;}#sk-container-id-3 div.sk-parallel {display: flex;align-items: stretch;justify-content: center;background-color: white;position: relative;}#sk-container-id-3 div.sk-item::before, #sk-container-id-3 div.sk-parallel-item::before {content: \"\";position: absolute;border-left: 1px solid gray;box-sizing: border-box;top: 0;bottom: 0;left: 50%;z-index: -1;}#sk-container-id-3 div.sk-parallel-item {display: flex;flex-direction: column;z-index: 1;position: relative;background-color: white;}#sk-container-id-3 div.sk-parallel-item:first-child::after {align-self: flex-end;width: 50%;}#sk-container-id-3 div.sk-parallel-item:last-child::after {align-self: flex-start;width: 50%;}#sk-container-id-3 div.sk-parallel-item:only-child::after {width: 0;}#sk-container-id-3 div.sk-dashed-wrapped {border: 1px dashed gray;margin: 0 0.4em 0.5em 0.4em;box-sizing: border-box;padding-bottom: 0.4em;background-color: white;}#sk-container-id-3 div.sk-label label {font-family: monospace;font-weight: bold;display: inline-block;line-height: 1.2em;}#sk-container-id-3 div.sk-label-container {text-align: center;}#sk-container-id-3 div.sk-container {/* jupyter's `normalize.less` sets `[hidden] { display: none; }` but bootstrap.min.css set `[hidden] { display: none !important; }` so we also need the `!important` here to be able to override the default hidden behavior on the sphinx rendered scikit-learn.org. See: https://github.com/scikit-learn/scikit-learn/issues/21755 */display: inline-block !important;position: relative;}#sk-container-id-3 div.sk-text-repr-fallback {display: none;}</style><div id=\"sk-container-id-3\" class=\"sk-top-container\"><div class=\"sk-text-repr-fallback\"><pre>RandomForestRegressor(n_estimators=15, random_state=0)</pre><b>In a Jupyter environment, please rerun this cell to show the HTML representation or trust the notebook. <br />On GitHub, the HTML representation is unable to render, please try loading this page with nbviewer.org.</b></div><div class=\"sk-container\" hidden><div class=\"sk-item\"><div class=\"sk-estimator sk-toggleable\"><input class=\"sk-toggleable__control sk-hidden--visually\" id=\"sk-estimator-id-3\" type=\"checkbox\" checked><label for=\"sk-estimator-id-3\" class=\"sk-toggleable__label sk-toggleable__label-arrow\">RandomForestRegressor</label><div class=\"sk-toggleable__content\"><pre>RandomForestRegressor(n_estimators=15, random_state=0)</pre></div></div></div></div></div>"
            ]
          },
          "metadata": {},
          "execution_count": 23
        }
      ]
    },
    {
      "cell_type": "code",
      "source": [
        "y_pred = regressor.predict(X_test).reshape(-1,1)\n",
        "y_test = y_test.astype(np.float)\n",
        "print(y_pred,y_test)"
      ],
      "metadata": {
        "colab": {
          "base_uri": "https://localhost:8080/"
        },
        "id": "ViMnYUa1y8oK",
        "outputId": "6c0c6c07-5608-45a6-e412-6c88ce47fe95"
      },
      "execution_count": 24,
      "outputs": [
        {
          "output_type": "stream",
          "name": "stdout",
          "text": [
            "[[10999.        ]\n",
            " [69999.        ]\n",
            " [10018.4       ]\n",
            " [11052.33333333]\n",
            " [  944.6       ]\n",
            " [  723.        ]\n",
            " [12665.66666667]\n",
            " [10685.66666667]\n",
            " [ 9465.66666667]\n",
            " [ 9499.        ]\n",
            " [18532.33333333]\n",
            " [12232.33333333]\n",
            " [ 1397.33333333]\n",
            " [ 8132.33333333]\n",
            " [12831.73333333]\n",
            " [69999.        ]\n",
            " [12665.66666667]\n",
            " [14331.73333333]\n",
            " [ 6425.66666667]\n",
            " [ 1365.66666667]\n",
            " [11799.        ]\n",
            " [ 8555.        ]\n",
            " [ 5922.33333333]\n",
            " [17283.1       ]\n",
            " [10818.4       ]\n",
            " [10018.4       ]\n",
            " [ 1996.53333333]\n",
            " [ 8999.        ]\n",
            " [ 1133.93333333]\n",
            " [ 6439.        ]\n",
            " [15896.        ]\n",
            " [15599.        ]\n",
            " [11052.33333333]\n",
            " [15896.        ]\n",
            " [  785.6       ]\n",
            " [ 1247.11111111]\n",
            " [17705.43333333]\n",
            " [ 9685.        ]\n",
            " [13490.        ]\n",
            " [ 6279.        ]\n",
            " [ 6025.66666667]] [[10999.]\n",
            " [69999.]\n",
            " [ 9699.]\n",
            " [ 7999.]\n",
            " [  914.]\n",
            " [  749.]\n",
            " [12999.]\n",
            " [10999.]\n",
            " [ 8999.]\n",
            " [ 9499.]\n",
            " [17999.]\n",
            " [10999.]\n",
            " [ 1450.]\n",
            " [ 7999.]\n",
            " [11999.]\n",
            " [69999.]\n",
            " [12999.]\n",
            " [14499.]\n",
            " [ 6199.]\n",
            " [ 1560.]\n",
            " [11999.]\n",
            " [ 8999.]\n",
            " [ 5649.]\n",
            " [21974.]\n",
            " [10699.]\n",
            " [ 9699.]\n",
            " [ 2615.]\n",
            " [ 8999.]\n",
            " [ 1049.]\n",
            " [ 6199.]\n",
            " [16999.]\n",
            " [15999.]\n",
            " [ 7999.]\n",
            " [16999.]\n",
            " [ 1099.]\n",
            " [ 1399.]\n",
            " [17950.]\n",
            " [ 9999.]\n",
            " [13490.]\n",
            " [ 6299.]\n",
            " [ 5999.]]\n"
          ]
        },
        {
          "output_type": "stream",
          "name": "stderr",
          "text": [
            "<ipython-input-24-3f829bdb68e0>:2: DeprecationWarning: `np.float` is a deprecated alias for the builtin `float`. To silence this warning, use `float` by itself. Doing this will not modify any behavior and is safe. If you specifically wanted the numpy scalar type, use `np.float64` here.\n",
            "Deprecated in NumPy 1.20; for more details and guidance: https://numpy.org/devdocs/release/1.20.0-notes.html#deprecations\n",
            "  y_test = y_test.astype(np.float)\n"
          ]
        }
      ]
    },
    {
      "cell_type": "code",
      "source": [
        "from sklearn.metrics import mean_absolute_error as mae\n",
        "print(mae(y_test,y_pred))"
      ],
      "metadata": {
        "colab": {
          "base_uri": "https://localhost:8080/"
        },
        "id": "MBlM9Q74dIDD",
        "outputId": "2c8b9f3f-4217-4afb-9490-ba389ff2ee3d"
      },
      "execution_count": 25,
      "outputs": [
        {
          "output_type": "stream",
          "name": "stdout",
          "text": [
            "535.8525745257454\n"
          ]
        }
      ]
    }
  ]
}